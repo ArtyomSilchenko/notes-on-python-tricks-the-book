{
 "cells": [
  {
   "cell_type": "markdown",
   "metadata": {},
   "source": [
    "# 2 Patterns for Cleaner Python\n",
    "\n",
    "based on: Dan Bader. Python Tricks: The Book."
   ]
  },
  {
   "cell_type": "markdown",
   "metadata": {},
   "source": [
    "## 2.1 Covering Your A** With Assertions\n",
    "\n",
    "### Usage of assertions\n",
    "\n",
    "- internal self-checks for impossible situations\n",
    "- inform developers about unrecoverable errors arrising due to bugs\n",
    "- **do not** use for expected runtime errors such as File-Not-Found errors\n",
    "\n",
    "Assertions are a debugging help.\n",
    "\n",
    "### Implementation\n",
    "\n",
    "```python\n",
    "assert expression1, expression2\n",
    "```\n",
    "\n",
    "becomes\n",
    "\n",
    "```python\n",
    "if __debug__:\n",
    "    if not expression1:\n",
    "        raise AssertionError(expression2)\n",
    "```\n",
    "\n",
    "`__debug__` is `True` by default and can be deactivated using `-O` and `-OO` command line switches.\n",
    "\n",
    "**Since assertions can be disabled** do not use for data validation, checking admin privileges, etc. since this can lead to security issues and severe bugs.\n",
    "\n",
    "### Syntax pitfall\n",
    "\n",
    "```python\n",
    "# DO NOT USE\n",
    "assert(\n",
    "    1 == 2,\n",
    "    'This should fail'\n",
    ")\n",
    "```\n",
    "\n",
    "This will **never** fail."
   ]
  },
  {
   "cell_type": "markdown",
   "metadata": {},
   "source": [
    "## 2.2 Complacent Comma Placement"
   ]
  }
 ],
 "metadata": {
  "kernelspec": {
   "display_name": "Python 3",
   "language": "python",
   "name": "python3"
  },
  "language_info": {
   "codemirror_mode": {
    "name": "ipython",
    "version": 3
   },
   "file_extension": ".py",
   "mimetype": "text/x-python",
   "name": "python",
   "nbconvert_exporter": "python",
   "pygments_lexer": "ipython3",
   "version": "3.6.0"
  }
 },
 "nbformat": 4,
 "nbformat_minor": 2
}
