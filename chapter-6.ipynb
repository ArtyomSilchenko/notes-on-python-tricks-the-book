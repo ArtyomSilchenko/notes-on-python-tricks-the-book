{
 "cells": [
  {
   "cell_type": "markdown",
   "metadata": {},
   "source": [
    "# 6 Looping and Iteration"
   ]
  },
  {
   "cell_type": "markdown",
   "metadata": {},
   "source": [
    "## 6.1 Writing Pythonic Loops"
   ]
  },
  {
   "cell_type": "markdown",
   "metadata": {},
   "source": [
    "Some of the things mentioned:\n",
    "\n",
    "```python\n",
    "for item in list:\n",
    "    pass\n",
    "    \n",
    "for index, item in enumerate(list):\n",
    "    pass\n",
    "    \n",
    "for key, value in dict.items():\n",
    "    pass\n",
    "```"
   ]
  },
  {
   "cell_type": "markdown",
   "metadata": {},
   "source": [
    "## 6.2 Comprehending comprehensions"
   ]
  },
  {
   "cell_type": "markdown",
   "metadata": {},
   "source": [
    "List comprehension with condition\n",
    "\n",
    "```python\n",
    "all = [expression for x in iterable if condition]\n",
    "```\n",
    "\n",
    "is syntactic sugar for\n",
    "\n",
    "```python\n",
    "all = []\n",
    "for x in iterable:\n",
    "    if condition:\n",
    "        all.append(expression)\n",
    "```"
   ]
  },
  {
   "cell_type": "markdown",
   "metadata": {},
   "source": [
    "Set comprehension:\n",
    "\n",
    "```python\n",
    "{x + 1 for x in iterable}\n",
    "```\n",
    "\n",
    "Dict comprehension:\n",
    "\n",
    "```python\n",
    "{x: (x+1) for x in iterable}\n",
    "```"
   ]
  },
  {
   "cell_type": "markdown",
   "metadata": {},
   "source": [
    "## 6.3 List slicing tricks and sushi operator"
   ]
  }
 ],
 "metadata": {
  "kernelspec": {
   "display_name": "Python 3",
   "language": "python",
   "name": "python3"
  },
  "language_info": {
   "codemirror_mode": {
    "name": "ipython",
    "version": 3
   },
   "file_extension": ".py",
   "mimetype": "text/x-python",
   "name": "python",
   "nbconvert_exporter": "python",
   "pygments_lexer": "ipython3",
   "version": "3.6.0"
  }
 },
 "nbformat": 4,
 "nbformat_minor": 2
}
