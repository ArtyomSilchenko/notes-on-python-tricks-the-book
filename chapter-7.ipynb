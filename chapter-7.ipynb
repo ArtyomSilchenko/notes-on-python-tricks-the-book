{
 "cells": [
  {
   "cell_type": "markdown",
   "metadata": {},
   "source": [
    "# 7 Dictionary tricks"
   ]
  },
  {
   "cell_type": "markdown",
   "metadata": {
    "collapsed": true
   },
   "source": [
    "## 7.1Dictionary default values\n",
    "\n",
    "Easier to ask for forgiveness than permission” (EAFP) membership check:\n",
    "\n",
    "```python\n",
    "def greet(name):\n",
    "    try:\n",
    "        return f'Hi {name_to_firstname[name]}!'\n",
    "    except KeyError:\n",
    "        return 'Hi user!'\n",
    "```\n",
    "\n",
    "Using `get()` and default parameter:\n",
    "\n",
    "```python\n",
    "def greet(name):\n",
    "    return 'Hi {}!'.format(name_to_firstname.get(name, 'user'))\n",
    "```\n",
    "\n",
    "Or `collections.defaultdict`."
   ]
  },
  {
   "cell_type": "markdown",
   "metadata": {},
   "source": [
    "## 7.2 Sorting dictionaries"
   ]
  },
  {
   "cell_type": "markdown",
   "metadata": {},
   "source": [
    "Using lambda:\n",
    "\n",
    "```python\n",
    "sorted(xs.items(), key=lambda x: x[1])\n",
    "```\n",
    "\n",
    "Using `operator.itemgetter()`:\n",
    "\n",
    "```python\n",
    "import operator\n",
    "\n",
    "sorted(xs.items(), key=operator.itemgetter(1))\n",
    "```"
   ]
  },
  {
   "cell_type": "markdown",
   "metadata": {},
   "source": [
    "## 7.3 Emulation Switch/Case with dicts"
   ]
  },
  {
   "cell_type": "code",
   "execution_count": 2,
   "metadata": {
    "collapsed": false
   },
   "outputs": [],
   "source": [
    "def op_dict(operator, x, y):\n",
    "     return {\n",
    "         '+': lambda: x + y,\n",
    "         '-': lambda: x - y,\n",
    "         '*': lambda: x * y,\n",
    "         '/': lambda: x / y,\n",
    "     }.get(operator, lambda: None)()"
   ]
  },
  {
   "cell_type": "code",
   "execution_count": 3,
   "metadata": {
    "collapsed": false
   },
   "outputs": [
    {
     "data": {
      "text/plain": [
       "5"
      ]
     },
     "execution_count": 3,
     "metadata": {},
     "output_type": "execute_result"
    }
   ],
   "source": [
    "op_dict('+', 2, 3)"
   ]
  },
  {
   "cell_type": "markdown",
   "metadata": {},
   "source": [
    "## 7.4 crazy dict\n",
    "\n",
    "dicts treat keys as identical if their hash values are the same and their `__eq__` is `True`."
   ]
  },
  {
   "cell_type": "markdown",
   "metadata": {},
   "source": [
    "``` python\n",
    "{True: 'yes', 1: 'no', 1.0: 'maybe'}\n",
    "```"
   ]
  },
  {
   "cell_type": "code",
   "execution_count": 4,
   "metadata": {
    "collapsed": false
   },
   "outputs": [
    {
     "data": {
      "text/plain": [
       "True"
      ]
     },
     "execution_count": 4,
     "metadata": {},
     "output_type": "execute_result"
    }
   ],
   "source": [
    "True == 1 == 1.0"
   ]
  },
  {
   "cell_type": "code",
   "execution_count": 6,
   "metadata": {
    "collapsed": false
   },
   "outputs": [
    {
     "data": {
      "text/plain": [
       "(1, 1, 1)"
      ]
     },
     "execution_count": 6,
     "metadata": {},
     "output_type": "execute_result"
    }
   ],
   "source": [
    "(hash(True), hash(1), hash(1.0))"
   ]
  },
  {
   "cell_type": "markdown",
   "metadata": {},
   "source": [
    "## 7.5 Merging dicts"
   ]
  },
  {
   "cell_type": "code",
   "execution_count": 4,
   "metadata": {
    "collapsed": false
   },
   "outputs": [
    {
     "data": {
      "text/plain": [
       "{'1': 1, '2': 3, '4': 4}"
      ]
     },
     "execution_count": 4,
     "metadata": {},
     "output_type": "execute_result"
    }
   ],
   "source": [
    "a = {'1': 1, '2': 2}\n",
    "b = {'2': 3, '4': 4}\n",
    "{**a, **b}"
   ]
  }
 ],
 "metadata": {
  "kernelspec": {
   "display_name": "Python 3",
   "language": "python",
   "name": "python3"
  },
  "language_info": {
   "codemirror_mode": {
    "name": "ipython",
    "version": 3
   },
   "file_extension": ".py",
   "mimetype": "text/x-python",
   "name": "python",
   "nbconvert_exporter": "python",
   "pygments_lexer": "ipython3",
   "version": "3.6.0"
  }
 },
 "nbformat": 4,
 "nbformat_minor": 2
}
