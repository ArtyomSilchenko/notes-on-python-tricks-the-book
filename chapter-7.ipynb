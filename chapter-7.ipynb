{
 "cells": [
  {
   "cell_type": "markdown",
   "metadata": {},
   "source": [
    "# 7 Dictionary tricks"
   ]
  },
  {
   "cell_type": "markdown",
   "metadata": {
    "collapsed": true
   },
   "source": [
    "## 7.1Dictionary default values\n",
    "\n",
    "Easier to ask for forgiveness than permission” (EAFP) membership check:\n",
    "\n",
    "```python\n",
    "def greet(name):\n",
    "    try:\n",
    "        return f'Hi {name_to_firstname[name]}!'\n",
    "    except KeyError:\n",
    "        return 'Hi user!'\n",
    "```\n",
    "\n",
    "Using `get()` and default parameter:\n",
    "\n",
    "```python\n",
    "def greet(name):\n",
    "    return 'Hi {}!'.format(name_to_firstname.get(name, 'user'))\n",
    "```\n",
    "\n",
    "Or `collections.defaultdict`."
   ]
  },
  {
   "cell_type": "markdown",
   "metadata": {},
   "source": [
    "## 7.2 Sorting dictionaries"
   ]
  }
 ],
 "metadata": {
  "kernelspec": {
   "display_name": "Python 3",
   "language": "python",
   "name": "python3"
  },
  "language_info": {
   "codemirror_mode": {
    "name": "ipython",
    "version": 3
   },
   "file_extension": ".py",
   "mimetype": "text/x-python",
   "name": "python",
   "nbconvert_exporter": "python",
   "pygments_lexer": "ipython3",
   "version": "3.6.0"
  }
 },
 "nbformat": 4,
 "nbformat_minor": 2
}
